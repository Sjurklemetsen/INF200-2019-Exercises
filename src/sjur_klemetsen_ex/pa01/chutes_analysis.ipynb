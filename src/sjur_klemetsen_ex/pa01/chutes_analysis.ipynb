{
 "cells": [
  {
   "cell_type": "code",
   "execution_count": 6,
   "metadata": {},
   "outputs": [],
   "source": [
    "import statistics\n",
    "import random as rd\n",
    "\n",
    "def single_game(num_players):\n",
    "    ladder = {1: 40, 8: 10, 36: 52, 43: 62, 49: 79, 65: 82, 68: 85}\n",
    "    snakes = {24: 5, 33: 3, 42: 30, 56: 37, 64: 27, 74: 12, 87: 70}\n",
    "    board = [x for x in range(1, 91)]\n",
    "\n",
    "    pos = [0] * num_players\n",
    "    num_moves = 0\n",
    "    winner = False\n",
    "    while not winner:\n",
    "        for player in range(num_players):\n",
    "            roll = rd.randint(1, 6)\n",
    "            pos[player] += roll\n",
    "\n",
    "            for (key1, value1), (key2, value2) in zip(ladder.items(),\n",
    "                                                      snakes.items()):\n",
    "                if pos[player] == key1:\n",
    "                    pos[player] = value1\n",
    "                elif pos[player] == key2:\n",
    "                    pos[player] = value2\n",
    "                else:\n",
    "                    continue\n",
    "            if pos[player] >= len(board):\n",
    "                winner = True\n",
    "        num_moves += 1\n",
    "    return num_moves\n",
    "\n",
    "\n",
    "def multiple_games(num_games, num_players):\n",
    "    num_moves = []\n",
    "    for i in range(num_games):\n",
    "        num_moves.append(single_game(num_players))\n",
    "    return num_moves\n",
    "\n",
    "\n",
    "def multi_game_experiment(num_games, num_players, seed):\n",
    "    rd.seed(seed)\n",
    "    games_with_seed = multiple_games(num_games, num_players)\n",
    "    return games_with_seed"
   ]
  },
  {
   "cell_type": "code",
   "execution_count": 5,
   "metadata": {},
   "outputs": [
    {
     "data": {
      "text/plain": [
       "Text(0, 0.5, 'Occurences')"
      ]
     },
     "execution_count": 5,
     "metadata": {},
     "output_type": "execute_result"
    },
    {
     "data": {
      "image/png": "[encoded data removed]",
      "text/plain": [
       "<Figure size 432x288 with 4 Axes>"
      ]
     },
     "metadata": {
      "needs_background": "light"
     },
     "output_type": "display_data"
    }
   ],
   "source": [
    "import matplotlib.pyplot as plt\n",
    "\n",
    "n = 50 \n",
    "fig, axs = plt.subplots(2, 2, sharey=True, tight_layout=True)\n",
    "\n",
    "x1 = multi_game_experiment(100, 1, 5)\n",
    "x2 = multi_game_experiment(100, 2, 5)\n",
    "x3 = multi_game_experiment(100, 4, 5)\n",
    "x4 = multi_game_experiment(100, 8, 5)\n",
    "\n",
    "axs[0,0].hist(x1, bins=n, histtype = 'step', color='green', range=(0,100))\n",
    "axs[0,1].hist(x2, bins=n, histtype = 'step', color='orange', range=(0,100))\n",
    "axs[1,0].hist(x3, bins=n, histtype = 'step', color='blue', range=(0,100))\n",
    "axs[1,1].hist(x4, bins=n, histtype = 'step', color='pink', range=(0,100))\n",
    "\n",
    "axs[0,0].set_title('One player')\n",
    "axs[0,1].set_title('Two players')\n",
    "axs[1,0].set_title('Four players')\n",
    "axs[1,1].set_title('Eight players')\n",
    "\n",
    "axs[0,0].set_xlabel('Number of moves')\n",
    "axs[0,1].set_xlabel('Number of moves')\n",
    "axs[1,0].set_xlabel('Number of moves')\n",
    "axs[1,1].set_xlabel('Number of moves')\n",
    "\n",
    "axs[0,0].set_ylabel('Occurences')\n",
    "axs[1,0].set_ylabel('Occurences')"
   ]
  },
  {
   "cell_type": "code",
   "execution_count": null,
   "metadata": {},
   "outputs": [],
   "source": []
  },
  {
   "cell_type": "code",
   "execution_count": null,
   "metadata": {},
   "outputs": [],
   "source": []
  }
 ],
 "metadata": {
  "kernelspec": {
   "display_name": "Python 3",
   "language": "python",
   "name": "python3"
  },
  "language_info": {
   "codemirror_mode": {
    "name": "ipython",
    "version": 3
   },
   "file_extension": ".py",
   "mimetype": "text/x-python",
   "name": "python",
   "nbconvert_exporter": "python",
   "pygments_lexer": "ipython3",
   "version": "3.7.3"
  }
 },
 "nbformat": 4,
 "nbformat_minor": 2
}
